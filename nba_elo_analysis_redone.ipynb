{
 "cells": [
  {
   "cell_type": "markdown",
   "id": "3397653e",
   "metadata": {},
   "source": [
    "# NBA Elo Ratings Analysis – 21st Century Focus\n",
    "With the **NBA Playoffs currently underway**, this project analyzes team performance in the 21st century using FiveThirtyEight’s `nbaallelo.csv` dataset. We limited our scope to games from 2000 onward, as the style of play, pace, and competitive dynamics have significantly changed from prior decades. The Elo rating system helps us quantify team strength over time and identify performance trends, playoff patterns, and impactful upsets."
   ]
  },
  {
   "cell_type": "markdown",
   "id": "51e815aa",
   "metadata": {},
   "source": [
    "## Questions to Explore\n",
    "1. Which teams had the highest Elo rating at the end of each season since 2000?\n",
    "2. How does home-court advantage impact win percentage?\n",
    "3. What is the distribution of Elo ratings in the playoffs vs regular season?\n",
    "4. What are the biggest Elo upsets since 2000?\n",
    "5. Which franchises have the most playoff games since 2000?\n",
    "6. Which teams had the largest Elo increase in a single season?"
   ]
  },
  {
   "cell_type": "code",
   "execution_count": null,
   "id": "e5e3b46e",
   "metadata": {},
   "outputs": [],
   "source": [
    "import pandas as pd\n",
    "import matplotlib.pyplot as plt\n",
    "import seaborn as sns\n",
    "sns.set(style='whitegrid')\n",
    "\n",
    "# Load dataset\n",
    "df = pd.read_csv('../data/nbaallelo.csv')\n",
    "# Filter for 21st century\n",
    "df = df[df['year_id'] >= 2000].copy()\n",
    "df.reset_index(drop=True, inplace=True)\n",
    "df.head()"
   ]
  },
  {
   "cell_type": "markdown",
   "id": "dd275061",
   "metadata": {},
   "source": [
    "### 1. Top Elo Rating at End of Each Season (2000–Present)"
   ]
  },
  {
   "cell_type": "code",
   "execution_count": null,
   "id": "acbc9bb4",
   "metadata": {},
   "outputs": [],
   "source": [
    "final_games = df.groupby(['year_id', 'team_id']).apply(lambda x: x.loc[x['gameorder'].idxmax()]).reset_index(drop=True)\n",
    "top_teams = final_games.loc[final_games.groupby('year_id')['elo_i'].idxmax()]\n",
    "plt.figure(figsize=(12,6))\n",
    "sns.lineplot(data=top_teams, x='year_id', y='elo_i', hue='team_id', marker='o')\n",
    "plt.title('Top End-of-Season Elo Ratings (2000–Present)')\n",
    "plt.ylabel('Elo Rating')\n",
    "plt.xlabel('Season')\n",
    "plt.legend(title='Team', bbox_to_anchor=(1.05, 1), loc='upper left')\n",
    "plt.tight_layout()\n",
    "plt.show()"
   ]
  },
  {
   "cell_type": "markdown",
   "id": "74f00a83",
   "metadata": {},
   "source": [
    "### 2. Home-Court Advantage Impact"
   ]
  },
  {
   "cell_type": "code",
   "execution_count": null,
   "id": "921cb313",
   "metadata": {},
   "outputs": [],
   "source": [
    "home_win_pct = (df[df['game_location'] == 'H']['game_result'] == 'W').mean()\n",
    "away_win_pct = (df[df['game_location'] == 'A']['game_result'] == 'W').mean()\n",
    "plt.bar(['Home', 'Away'], [home_win_pct, away_win_pct], color=['blue', 'orange'])\n",
    "plt.title('Win Percentage: Home vs Away')\n",
    "plt.ylabel('Win %')\n",
    "plt.show()\n",
    "print(f'Home win %: {home_win_pct:.2%}, Away win %: {away_win_pct:.2%}')"
   ]
  },
  {
   "cell_type": "markdown",
   "id": "3c11a91e",
   "metadata": {},
   "source": [
    "### 3. Elo Rating Distribution – Regular Season vs Playoffs"
   ]
  },
  {
   "cell_type": "code",
   "execution_count": null,
   "id": "cc393d7f",
   "metadata": {},
   "outputs": [],
   "source": [
    "plt.figure(figsize=(10,5))\n",
    "sns.boxplot(data=df, x='is_playoffs', y='elo_i')\n",
    "plt.title('Elo Rating Distribution by Game Type')\n",
    "plt.xlabel('0 = Regular Season, 1 = Playoffs')\n",
    "plt.ylabel('Elo Rating')\n",
    "plt.show()"
   ]
  },
  {
   "cell_type": "markdown",
   "id": "937fae68",
   "metadata": {},
   "source": [
    "### 4. Biggest Elo Upsets (2000–Present)"
   ]
  },
  {
   "cell_type": "code",
   "execution_count": null,
   "id": "e37b971e",
   "metadata": {},
   "outputs": [],
   "source": [
    "df['elo_diff'] = df['opp_elo_i'] - df['elo_i']\n",
    "upsets = df[(df['game_result'] == 'W') & (df['elo_diff'] > 0)].sort_values(by='elo_diff', ascending=False)\n",
    "upsets[['date_game', 'team_id', 'opp_id', 'elo_i', 'opp_elo_i', 'elo_diff']].head()"
   ]
  },
  {
   "cell_type": "markdown",
   "id": "f5236f9c",
   "metadata": {},
   "source": [
    "### 5. Most Playoff Games by Franchise (2000–Present)"
   ]
  },
  {
   "cell_type": "code",
   "execution_count": null,
   "id": "5d07c229",
   "metadata": {},
   "outputs": [],
   "source": [
    "playoff_counts = df[df['is_playoffs'] == 1]['fran_id'].value_counts().head(10)\n",
    "sns.barplot(x=playoff_counts.values, y=playoff_counts.index, palette='viridis')\n",
    "plt.title('Top 10 Franchises by Playoff Games Played')\n",
    "plt.xlabel('Playoff Games')\n",
    "plt.ylabel('Franchise')\n",
    "plt.show()"
   ]
  },
  {
   "cell_type": "markdown",
   "id": "c668cb7d",
   "metadata": {},
   "source": [
    "### 6. Largest Elo Increase in a Single Season"
   ]
  },
  {
   "cell_type": "code",
   "execution_count": null,
   "id": "f6abc624",
   "metadata": {},
   "outputs": [],
   "source": [
    "season_elo = df.groupby(['year_id', 'team_id'])['elo_i'].agg(['first', 'last'])\n",
    "season_elo['elo_gain'] = season_elo['last'] - season_elo['first']\n",
    "top_gainers = season_elo.sort_values(by='elo_gain', ascending=False).head(10).reset_index()\n",
    "sns.barplot(data=top_gainers, x='elo_gain', y='team_id', hue='year_id', dodge=False)\n",
    "plt.title('Top 10 Team-Season Elo Gains')\n",
    "plt.xlabel('Elo Rating Gain')\n",
    "plt.ylabel('Team')\n",
    "plt.show()"
   ]
  },
  {
   "cell_type": "markdown",
   "id": "4ea31896",
   "metadata": {},
   "source": [
    "## Summary & Insights\n",
    "- Top end-of-season Elo ratings highlight the most dominant teams year by year.\n",
    "- Home teams continue to win more often, though not overwhelmingly.\n",
    "- Playoff Elo ratings are generally higher, showing the intensity of postseason matchups.\n",
    "- Notable upsets exist where teams overcame significant Elo disadvantages.\n",
    "- Some franchises are consistent playoff contenders, while others fluctuate.\n",
    "- Elo gains across seasons reveal which teams made the biggest improvements in single-year spans.\n",
    "\n",
    "This analysis helps illustrate modern team performance using objective rating metrics like Elo."
   ]
  }
 ],
 "metadata": {},
 "nbformat": 4,
 "nbformat_minor": 5
}
