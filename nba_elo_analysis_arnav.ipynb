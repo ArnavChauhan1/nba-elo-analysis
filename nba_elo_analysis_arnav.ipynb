{
 "cells": [
  {
   "cell_type": "markdown",
   "id": "bb0945ea",
   "metadata": {},
   "source": [
    "# NBA Elo Ratings Analysis (2000–Present) – Arnav Chauhan\n",
    "This project explores trends in NBA team performance from the year 2000 onward using FiveThirtyEight’s `nbaallelo.csv` dataset. It focuses on Elo ratings to examine team strength, playoff dynamics, home-court advantage, and key season-over-season improvements."
   ]
  },
  {
   "cell_type": "markdown",
   "id": "240d15a9",
   "metadata": {},
   "source": [
    "## Problem Space\n",
    "This analysis is motivated by the current NBA Playoffs, a time when understanding team strength and historical performance is more relevant than ever. By using Elo ratings, we can objectively evaluate which teams were the strongest in recent seasons, identify historical upsets, and understand how playoff experience contributes to success. The insights can help fans, analysts, and even sports bettors make better sense of team dynamics and performance trends."
   ]
  },
  {
   "cell_type": "markdown",
   "id": "eaeba623",
   "metadata": {},
   "source": [
    "## Dataset Description\n",
    "The dataset used is `nbaallelo.csv`, maintained by [FiveThirtyEight](https://github.com/fivethirtyeight/data/tree/master/nba-elo). It contains historical NBA game results with Elo ratings for each team, along with game metadata like date, team ID, opponent Elo, game location, and whether it was a playoff game. This makes it an excellent source for time-series analysis of team performance and comparative evaluation across seasons."
   ]
  },
  {
   "cell_type": "markdown",
   "id": "7936284d",
   "metadata": {},
   "source": [
    "## Questions to Explore\n",
    "1. Which teams had the highest Elo rating at the end of each season since 2000?\n",
    "2. How does home-court advantage impact win percentage?\n",
    "3. What is the distribution of Elo ratings in the playoffs vs regular season?\n",
    "4. What are the biggest Elo upsets since 2000?\n",
    "5. Which franchises have the most playoff games since 2000?\n",
    "6. Which teams had the largest Elo increase in a single season?"
   ]
  },
  {
   "cell_type": "code",
   "execution_count": null,
   "id": "03bff4c1",
   "metadata": {},
   "outputs": [],
   "source": [
    "import pandas as pd\n",
    "import matplotlib.pyplot as plt\n",
    "import seaborn as sns\n",
    "sns.set(style='whitegrid')\n",
    "\n",
    "# Load dataset\n",
    "df = pd.read_csv('../data/nbaallelo.csv')\n",
    "df = df[df['year_id'] >= 2000].copy()\n",
    "df.reset_index(drop=True, inplace=True)\n",
    "df.head()"
   ]
  },
  {
   "cell_type": "markdown",
   "id": "0a7d6b7e",
   "metadata": {},
   "source": [
    "### 1. Top Elo Rating at End of Each Season"
   ]
  },
  {
   "cell_type": "code",
   "execution_count": null,
   "id": "a13cd852",
   "metadata": {},
   "outputs": [],
   "source": [
    "final_games = df.groupby(['year_id', 'team_id']).apply(lambda x: x.loc[x['gameorder'].idxmax()]).reset_index(drop=True)\n",
    "top_teams = final_games.loc[final_games.groupby('year_id')['elo_i'].idxmax()]\n",
    "plt.figure(figsize=(12,6))\n",
    "sns.lineplot(data=top_teams, x='year_id', y='elo_i', hue='team_id', marker='o')\n",
    "plt.title('Top End-of-Season Elo Ratings (2000–Present)')\n",
    "plt.ylabel('Elo Rating')\n",
    "plt.xlabel('Season')\n",
    "plt.legend(title='Team', bbox_to_anchor=(1.05, 1), loc='upper left')\n",
    "plt.tight_layout()\n",
    "plt.show()"
   ]
  },
  {
   "cell_type": "markdown",
   "id": "10b29111",
   "metadata": {},
   "source": [
    "### 2. Home-Court Advantage Impact"
   ]
  },
  {
   "cell_type": "code",
   "execution_count": null,
   "id": "7b7f4bfb",
   "metadata": {},
   "outputs": [],
   "source": [
    "home_win_pct = (df[df['game_location'] == 'H']['game_result'] == 'W').mean()\n",
    "away_win_pct = (df[df['game_location'] == 'A']['game_result'] == 'W').mean()\n",
    "plt.bar(['Home', 'Away'], [home_win_pct, away_win_pct], color=['blue', 'orange'])\n",
    "plt.title('Win Percentage: Home vs Away')\n",
    "plt.ylabel('Win %')\n",
    "plt.show()\n",
    "print(f'Home win %: {home_win_pct:.2%}, Away win %: {away_win_pct:.2%}')"
   ]
  },
  {
   "cell_type": "markdown",
   "id": "2384ef16",
   "metadata": {},
   "source": [
    "### 3. Elo Rating Distribution – Regular Season vs Playoffs"
   ]
  },
  {
   "cell_type": "code",
   "execution_count": null,
   "id": "41fffa44",
   "metadata": {},
   "outputs": [],
   "source": [
    "plt.figure(figsize=(10,5))\n",
    "sns.boxplot(data=df, x='is_playoffs', y='elo_i')\n",
    "plt.title('Elo Rating Distribution by Game Type')\n",
    "plt.xlabel('0 = Regular Season, 1 = Playoffs')\n",
    "plt.ylabel('Elo Rating')\n",
    "plt.show()"
   ]
  },
  {
   "cell_type": "markdown",
   "id": "5ca7402b",
   "metadata": {},
   "source": [
    "### 4. Biggest Elo Upsets (2000–Present)"
   ]
  },
  {
   "cell_type": "code",
   "execution_count": null,
   "id": "5e937b94",
   "metadata": {},
   "outputs": [],
   "source": [
    "df['elo_diff'] = df['opp_elo_i'] - df['elo_i']\n",
    "upsets = df[(df['game_result'] == 'W') & (df['elo_diff'] > 0)].sort_values(by='elo_diff', ascending=False)\n",
    "upsets[['date_game', 'team_id', 'opp_id', 'elo_i', 'opp_elo_i', 'elo_diff']].head()"
   ]
  },
  {
   "cell_type": "markdown",
   "id": "8635fefe",
   "metadata": {},
   "source": [
    "### 5. Most Playoff Games by Franchise"
   ]
  },
  {
   "cell_type": "code",
   "execution_count": null,
   "id": "59977537",
   "metadata": {},
   "outputs": [],
   "source": [
    "playoff_counts = df[df['is_playoffs'] == 1]['fran_id'].value_counts().head(10)\n",
    "sns.barplot(x=playoff_counts.values, y=playoff_counts.index, palette='viridis')\n",
    "plt.title('Top 10 Franchises by Playoff Games Played')\n",
    "plt.xlabel('Playoff Games')\n",
    "plt.ylabel('Franchise')\n",
    "plt.show()"
   ]
  },
  {
   "cell_type": "markdown",
   "id": "08c9045f",
   "metadata": {},
   "source": [
    "### 6. Largest Elo Increase in a Single Season"
   ]
  },
  {
   "cell_type": "code",
   "execution_count": null,
   "id": "0c249853",
   "metadata": {},
   "outputs": [],
   "source": [
    "season_elo = df.groupby(['year_id', 'team_id'])['elo_i'].agg(['first', 'last'])\n",
    "season_elo['elo_gain'] = season_elo['last'] - season_elo['first']\n",
    "top_gainers = season_elo.sort_values(by='elo_gain', ascending=False).head(10).reset_index()\n",
    "sns.barplot(data=top_gainers, x='elo_gain', y='team_id', hue='year_id', dodge=False)\n",
    "plt.title('Top 10 Team-Season Elo Gains')\n",
    "plt.xlabel('Elo Rating Gain')\n",
    "plt.ylabel('Team')\n",
    "plt.show()"
   ]
  },
  {
   "cell_type": "markdown",
   "id": "846e63ee",
   "metadata": {},
   "source": [
    "## Summary & Insights\n",
    "- Top Elo ratings show season-ending dominance across multiple franchises.\n",
    "- Home teams continue to win more often than away teams.\n",
    "- Playoff Elo ratings are typically higher due to tighter competition.\n",
    "- Big upsets occur even when teams have significant Elo disadvantages.\n",
    "- Playoff experience is clustered in historically dominant franchises.\n",
    "- Certain teams make impressive single-season improvements reflected in Elo gains."
   ]
  }
 ],
 "metadata": {},
 "nbformat": 4,
 "nbformat_minor": 5
}
